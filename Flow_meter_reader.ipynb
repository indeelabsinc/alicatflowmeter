{
 "cells": [
  {
   "cell_type": "markdown",
   "metadata": {},
   "source": [
    "# Flow Meter Data Processing Script #\n",
    "\n",
    "This script takes as input a csv file from the Alicat Flow Meter Device. Users must convert the .txt file into a .csv file so that the code can properly run. "
   ]
  },
  {
   "cell_type": "markdown",
   "metadata": {},
   "source": [
    "## Load Data from Flow Meter ##"
   ]
  },
  {
   "cell_type": "code",
   "execution_count": 73,
   "metadata": {},
   "outputs": [],
   "source": [
    "import pandas as pd\n",
    "import matplotlib.pyplot as plt\n",
    "\n",
    "data = pd.read_csv('Alicat.csv')"
   ]
  },
  {
   "cell_type": "code",
   "execution_count": 33,
   "metadata": {},
   "outputs": [
    {
     "data": {
      "text/html": [
       "<div>\n",
       "<style scoped>\n",
       "    .dataframe tbody tr th:only-of-type {\n",
       "        vertical-align: middle;\n",
       "    }\n",
       "\n",
       "    .dataframe tbody tr th {\n",
       "        vertical-align: top;\n",
       "    }\n",
       "\n",
       "    .dataframe thead th {\n",
       "        text-align: right;\n",
       "    }\n",
       "</style>\n",
       "<table border=\"1\" class=\"dataframe\">\n",
       "  <thead>\n",
       "    <tr style=\"text-align: right;\">\n",
       "      <th></th>\n",
       "      <th>Time Stamp</th>\n",
       "      <th>Absolute Pressure [PSIA]</th>\n",
       "      <th>Temperature [C]</th>\n",
       "      <th>Mass Flow [SCCM]</th>\n",
       "      <th>Gas Selected</th>\n",
       "    </tr>\n",
       "  </thead>\n",
       "  <tbody>\n",
       "    <tr>\n",
       "      <th>0</th>\n",
       "      <td>55:54.8</td>\n",
       "      <td>14.69</td>\n",
       "      <td>23.07</td>\n",
       "      <td>0</td>\n",
       "      <td>N2</td>\n",
       "    </tr>\n",
       "    <tr>\n",
       "      <th>1</th>\n",
       "      <td>55:54.9</td>\n",
       "      <td>14.69</td>\n",
       "      <td>23.07</td>\n",
       "      <td>0</td>\n",
       "      <td>N2</td>\n",
       "    </tr>\n",
       "    <tr>\n",
       "      <th>2</th>\n",
       "      <td>55:54.9</td>\n",
       "      <td>14.69</td>\n",
       "      <td>23.07</td>\n",
       "      <td>0</td>\n",
       "      <td>N2</td>\n",
       "    </tr>\n",
       "    <tr>\n",
       "      <th>3</th>\n",
       "      <td>55:54.9</td>\n",
       "      <td>14.69</td>\n",
       "      <td>23.07</td>\n",
       "      <td>0</td>\n",
       "      <td>N2</td>\n",
       "    </tr>\n",
       "    <tr>\n",
       "      <th>4</th>\n",
       "      <td>55:55.0</td>\n",
       "      <td>14.69</td>\n",
       "      <td>23.07</td>\n",
       "      <td>0</td>\n",
       "      <td>N2</td>\n",
       "    </tr>\n",
       "  </tbody>\n",
       "</table>\n",
       "</div>"
      ],
      "text/plain": [
       "  Time Stamp  Absolute Pressure [PSIA]  Temperature [C]  Mass Flow [SCCM]  \\\n",
       "0    55:54.8                     14.69            23.07                 0   \n",
       "1    55:54.9                     14.69            23.07                 0   \n",
       "2    55:54.9                     14.69            23.07                 0   \n",
       "3    55:54.9                     14.69            23.07                 0   \n",
       "4    55:55.0                     14.69            23.07                 0   \n",
       "\n",
       "  Gas Selected  \n",
       "0           N2  \n",
       "1           N2  \n",
       "2           N2  \n",
       "3           N2  \n",
       "4           N2  "
      ]
     },
     "execution_count": 33,
     "metadata": {},
     "output_type": "execute_result"
    }
   ],
   "source": [
    "data.head()"
   ]
  },
  {
   "cell_type": "code",
   "execution_count": 34,
   "metadata": {},
   "outputs": [
    {
     "data": {
      "text/plain": [
       "Index(['Time Stamp', 'Absolute Pressure [PSIA]', 'Temperature [C]',\n",
       "       'Mass Flow [SCCM]', 'Gas Selected'],\n",
       "      dtype='object')"
      ]
     },
     "execution_count": 34,
     "metadata": {},
     "output_type": "execute_result"
    }
   ],
   "source": [
    "data.columns"
   ]
  },
  {
   "cell_type": "code",
   "execution_count": 46,
   "metadata": {},
   "outputs": [
    {
     "data": {
      "text/plain": [
       "0    55:54.8\n",
       "1    55:54.9\n",
       "2    55:54.9\n",
       "3    55:54.9\n",
       "4    55:55.0\n",
       "Name: Time Stamp, dtype: object"
      ]
     },
     "execution_count": 46,
     "metadata": {},
     "output_type": "execute_result"
    }
   ],
   "source": [
    "data['Time Stamp'].head()"
   ]
  },
  {
   "cell_type": "code",
   "execution_count": 47,
   "metadata": {},
   "outputs": [
    {
     "data": {
      "text/plain": [
       "0    14.69\n",
       "1    14.69\n",
       "2    14.69\n",
       "3    14.69\n",
       "4    14.69\n",
       "Name: Absolute Pressure [PSIA], dtype: float64"
      ]
     },
     "execution_count": 47,
     "metadata": {},
     "output_type": "execute_result"
    }
   ],
   "source": [
    "data['Absolute Pressure [PSIA]'].head()"
   ]
  },
  {
   "cell_type": "markdown",
   "metadata": {},
   "source": [
    "# Graph Data #"
   ]
  },
  {
   "cell_type": "markdown",
   "metadata": {},
   "source": [
    "## Pressure Data ##"
   ]
  },
  {
   "cell_type": "code",
   "execution_count": 84,
   "metadata": {},
   "outputs": [
    {
     "data": {
      "image/png": "[encoded data removed]",
      "text/plain": [
       "<matplotlib.figure.Figure at 0x1162312b0>"
      ]
     },
     "metadata": {},
     "output_type": "display_data"
    }
   ],
   "source": [
    "%matplotlib inline\n",
    "\n",
    "P_max = data['Absolute Pressure [PSIA]'].max()\n",
    "P_min = data['Absolute Pressure [PSIA]'].min()\n",
    "P_std = data['Absolute Pressure [PSIA]'].std()\n",
    "\n",
    "plt = data.plot(x='Time Stamp', y='Absolute Pressure [PSIA]', style=['gx','rx'])\n",
    "\n",
    "fig1 = plt.get_figure()\n",
    "fig1.savefig(\"output1.png\")"
   ]
  },
  {
   "cell_type": "markdown",
   "metadata": {},
   "source": [
    "## Temperature Data ##"
   ]
  },
  {
   "cell_type": "code",
   "execution_count": 85,
   "metadata": {},
   "outputs": [
    {
     "data": {
      "image/png": "[encoded data removed]",
      "text/plain": [
       "<matplotlib.figure.Figure at 0x11612f4a8>"
      ]
     },
     "metadata": {},
     "output_type": "display_data"
    }
   ],
   "source": [
    "%matplotlib inline\n",
    "\n",
    "T_max = data['Temperature [C]'].max()\n",
    "T_min = data['Temperature [C]'].min()\n",
    "T_std = data['Temperature [C]'].std()\n",
    "\n",
    "plt = data.plot(x='Time Stamp', y='Temperature [C]', style=['x','rx'])\n",
    "#plt.savefig('pie')\n",
    "fig2 = plt.get_figure()\n",
    "fig2.savefig(\"output2.png\")"
   ]
  },
  {
   "cell_type": "markdown",
   "metadata": {},
   "source": [
    "## Mass Flow [SCCM] ##"
   ]
  },
  {
   "cell_type": "code",
   "execution_count": 86,
   "metadata": {},
   "outputs": [
    {
     "data": {
      "image/png": "[encoded data removed]",
      "text/plain": [
       "<matplotlib.figure.Figure at 0x116436358>"
      ]
     },
     "metadata": {},
     "output_type": "display_data"
    }
   ],
   "source": [
    "mass_flow_max = data['Mass Flow [SCCM]'].max()\n",
    "mass_flow_min = data['Mass Flow [SCCM]'].min()\n",
    "mass_flow_std = data['Mass Flow [SCCM]'].std()\n",
    "\n",
    "plt = data.plot(x='Time Stamp', y='Mass Flow [SCCM]', style=['rx'])\n",
    "\n",
    "fig3 = plt.get_figure()\n",
    "fig3.savefig(\"output3.png\")"
   ]
  },
  {
   "cell_type": "code",
   "execution_count": null,
   "metadata": {},
   "outputs": [],
   "source": []
  }
 ],
 "metadata": {
  "kernelspec": {
   "display_name": "Python 3",
   "language": "python",
   "name": "python3"
  },
  "language_info": {
   "codemirror_mode": {
    "name": "ipython",
    "version": 3
   },
   "file_extension": ".py",
   "mimetype": "text/x-python",
   "name": "python",
   "nbconvert_exporter": "python",
   "pygments_lexer": "ipython3",
   "version": "3.6.4"
  }
 },
 "nbformat": 4,
 "nbformat_minor": 2
}
